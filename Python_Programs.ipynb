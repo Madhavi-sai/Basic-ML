{
  "nbformat": 4,
  "nbformat_minor": 0,
  "metadata": {
    "colab": {
      "name": "Python-Programs.ipynb",
      "provenance": [],
      "authorship_tag": "ABX9TyMH8L2JWv827SaJTzPSYg/0",
      "include_colab_link": true
    },
    "kernelspec": {
      "name": "python3",
      "display_name": "Python 3"
    },
    "language_info": {
      "name": "python"
    }
  },
  "cells": [
    {
      "cell_type": "markdown",
      "metadata": {
        "id": "view-in-github",
        "colab_type": "text"
      },
      "source": [
        "<a href=\"https://colab.research.google.com/github/Madhavi-sai/Basic-ML/blob/main/Python_Programs.ipynb\" target=\"_parent\"><img src=\"https://colab.research.google.com/assets/colab-badge.svg\" alt=\"Open In Colab\"/></a>"
      ]
    },
    {
      "cell_type": "markdown",
      "metadata": {
        "id": "Yy3jrOyrfAEA"
      },
      "source": [
        "**Python Syntax compared to other programming languages**\n",
        "\n",
        "1.   Python was designed for readability, and has some similarities to the English language with influence from mathematics.\n",
        "2.   Python uses new lines to complete a command, as opposed to other programming languages which often use semicolons or parentheses.\n",
        "Python relies on indentation, using whitespace, to define scope; such as the scope of loops, functions and classes. Other programming languages often use curly-brackets for this purpose.\n",
        "\n",
        "*A simple hello world program illustrates it all.*"
      ]
    },
    {
      "cell_type": "code",
      "metadata": {
        "colab": {
          "base_uri": "https://localhost:8080/"
        },
        "id": "Vg7yTAxdg_QQ",
        "outputId": "45b6db01-d4bd-4de5-b171-4dd271067c7a"
      },
      "source": [
        "print(\"Heello world\")\n",
        "print(\"Google colab is super cool :) \")"
      ],
      "execution_count": 18,
      "outputs": [
        {
          "output_type": "stream",
          "text": [
            "Heello world\n",
            "Google colab is super cool :) \n"
          ],
          "name": "stdout"
        }
      ]
    },
    {
      "cell_type": "markdown",
      "metadata": {
        "id": "dT2qYYbQiT8G"
      },
      "source": [
        "**Newton-raphson method to find square root of a number.**\n",
        "\n",
        "It is a boring task to find the square root of a number through long division method:(  \n",
        "But this can be done using a simple formula.\n",
        "\n",
        "Formula:\n",
        "\n",
        "Square-root = 0.5 * (X + (N / X)) where X is any guess which can be assumed to be any number.  "
      ]
    },
    {
      "cell_type": "code",
      "metadata": {
        "colab": {
          "base_uri": "https://localhost:8080/"
        },
        "id": "IaIVXKcTlL75",
        "outputId": "06021a27-4f81-4f45-faca-f06606f12915"
      },
      "source": [
        "def squareRoot(n, l) :\n",
        "  \n",
        "    x = n           # Assuming the sqrt of n as n only \n",
        "    count=0\n",
        "  \n",
        "    while (1) :\n",
        "        count += 1 \n",
        "        root = 0.5 * (x + (n / x))   # Calculate more closed x \n",
        "        if (abs(root - x) < l) : # Check for closeness\n",
        "            break  \n",
        "        x = root    # Update root \n",
        "  \n",
        "    return root \n",
        "\n",
        "\n",
        "n = 327\n",
        "l = 0.00001 \n",
        "  \n",
        "print(\"Square root using user defined function\",squareRoot(n, l)) \n",
        "\n",
        "import math                                                           #Accuracy check\n",
        "print(\"Square root using built in function    \",math.sqrt(327))"
      ],
      "execution_count": 10,
      "outputs": [
        {
          "output_type": "stream",
          "text": [
            "Square root using user defined function 18.083141320025124\n",
            "Square root using built in function     18.083141320025124\n"
          ],
          "name": "stdout"
        }
      ]
    },
    {
      "cell_type": "markdown",
      "metadata": {
        "id": "xdzB8Sw-t5Ey"
      },
      "source": [
        "**Rolling the dice**\n",
        "\n",
        "How it works....\n",
        "\n",
        "We have to import the random module for this,since we want to randomize the numberswe get from the dice.\n",
        "\n",
        "We set two variables (min and max) , lowest and highest number of the dice.\n",
        "\n",
        "We then use a while loop, so that the user can roll the dice again.\n",
        "\n",
        "The roll_again can be set to any value, but here it’s set to “yes” or “y”.\n",
        "\n"
      ]
    },
    {
      "cell_type": "code",
      "metadata": {
        "colab": {
          "base_uri": "https://localhost:8080/"
        },
        "id": "6J0nXjTWuxoP",
        "outputId": "201658e6-a5cd-45d7-a071-8436571af395"
      },
      "source": [
        "import random\n",
        "min = 1\n",
        "max = 6\n",
        "\n",
        "roll_again = \"yes\"\n",
        "\n",
        "while roll_again == \"yes\" or roll_again == \"y\":\n",
        "    print (\"Rolling the dices...\")\n",
        "    print (\"You are given a score of....\")\n",
        "    print (random.randint(min, max))\n",
        "\n",
        "    roll_again = input(\"Roll the dices again?\")"
      ],
      "execution_count": 19,
      "outputs": [
        {
          "output_type": "stream",
          "text": [
            "Rolling the dices...\n",
            "You are given a score of....\n",
            "4\n",
            "Roll the dices again?y\n",
            "Rolling the dices...\n",
            "You are given a score of....\n",
            "6\n",
            "Roll the dices again?n\n"
          ],
          "name": "stdout"
        }
      ]
    }
  ]
}