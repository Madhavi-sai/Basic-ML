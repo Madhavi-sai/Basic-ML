{
  "nbformat": 4,
  "nbformat_minor": 0,
  "metadata": {
    "colab": {
      "name": "customer_personality_analysis.ipynb",
      "provenance": [],
      "collapsed_sections": [],
      "mount_file_id": "1Cpnmtzr2m-55js5RWNiG_JRphiLWW2hH",
      "authorship_tag": "ABX9TyPudAwQT1zMUW5DuAzA+DZ2",
      "include_colab_link": true
    },
    "kernelspec": {
      "name": "python3",
      "display_name": "Python 3"
    },
    "language_info": {
      "name": "python"
    }
  },
  "cells": [
    {
      "cell_type": "markdown",
      "metadata": {
        "id": "view-in-github",
        "colab_type": "text"
      },
      "source": [
        "<a href=\"https://colab.research.google.com/github/Madhavi-sai/Basic-ML/blob/main/customer_personality_analysis.ipynb\" target=\"_parent\"><img src=\"https://colab.research.google.com/assets/colab-badge.svg\" alt=\"Open In Colab\"/></a>"
      ]
    },
    {
      "cell_type": "markdown",
      "metadata": {
        "id": "UMFqgerSCjYb"
      },
      "source": [
        "# **Customer personality analysis**\n",
        "![customer.jpeg](data:image/jpeg;base64,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)   \n",
        "**Why this data set?**       \n",
        "Customer Personality Analysis is a detailed analysis of a company’s ideal customers. It helps a business to better understand its customers and makes it easier for them to modify products according to the specific needs, behaviors and concerns of different types of customers."
      ]
    },
    {
      "cell_type": "markdown",
      "metadata": {
        "id": "wVtPEpWTHt7a"
      },
      "source": [
        "Getting started...  \n",
        "Importing necessary libraries."
      ]
    },
    {
      "cell_type": "code",
      "metadata": {
        "id": "wSYaUt06Ccr-"
      },
      "source": [
        "import pandas as pd\n",
        "import matplotlib.pyplot as plt\n",
        "import numpy as np\n",
        "import seaborn as sns\n",
        "\n",
        "import warnings\n",
        "warnings.filterwarnings(\"ignore\")\n",
        "\n",
        "%matplotlib inline"
      ],
      "execution_count": 70,
      "outputs": []
    },
    {
      "cell_type": "code",
      "metadata": {
        "colab": {
          "base_uri": "https://localhost:8080/"
        },
        "id": "b-GF5wyNIaNt",
        "outputId": "ee2ac3bb-40be-4acb-87b6-5f758b1bc4f5"
      },
      "source": [
        "cdata = pd.read_csv('/content/drive/MyDrive/marketing_campaign (1).csv',delimiter=\"\\t\")\n",
        "cdata.shape"
      ],
      "execution_count": 71,
      "outputs": [
        {
          "output_type": "execute_result",
          "data": {
            "text/plain": [
              "(2240, 29)"
            ]
          },
          "metadata": {},
          "execution_count": 71
        }
      ]
    },
    {
      "cell_type": "markdown",
      "metadata": {
        "id": "95eZqXIvPj0M"
      },
      "source": [
        "We have 2240 records of customers with 29 columns\n"
      ]
    },
    {
      "cell_type": "code",
      "metadata": {
        "colab": {
          "base_uri": "https://localhost:8080/",
          "height": 222
        },
        "id": "LXHoOwFMImg7",
        "outputId": "ac42f0ab-153b-4483-f6ec-7aa0f4bfe46c"
      },
      "source": [
        "cdata.head()"
      ],
      "execution_count": 72,
      "outputs": [
        {
          "output_type": "execute_result",
          "data": {
            "text/html": [
              "<div>\n",
              "<style scoped>\n",
              "    .dataframe tbody tr th:only-of-type {\n",
              "        vertical-align: middle;\n",
              "    }\n",
              "\n",
              "    .dataframe tbody tr th {\n",
              "        vertical-align: top;\n",
              "    }\n",
              "\n",
              "    .dataframe thead th {\n",
              "        text-align: right;\n",
              "    }\n",
              "</style>\n",
              "<table border=\"1\" class=\"dataframe\">\n",
              "  <thead>\n",
              "    <tr style=\"text-align: right;\">\n",
              "      <th></th>\n",
              "      <th>ID</th>\n",
              "      <th>Year_Birth</th>\n",
              "      <th>Education</th>\n",
              "      <th>Marital_Status</th>\n",
              "      <th>Income</th>\n",
              "      <th>Kidhome</th>\n",
              "      <th>Teenhome</th>\n",
              "      <th>Dt_Customer</th>\n",
              "      <th>Recency</th>\n",
              "      <th>MntWines</th>\n",
              "      <th>MntFruits</th>\n",
              "      <th>MntMeatProducts</th>\n",
              "      <th>MntFishProducts</th>\n",
              "      <th>MntSweetProducts</th>\n",
              "      <th>MntGoldProds</th>\n",
              "      <th>NumDealsPurchases</th>\n",
              "      <th>NumWebPurchases</th>\n",
              "      <th>NumCatalogPurchases</th>\n",
              "      <th>NumStorePurchases</th>\n",
              "      <th>NumWebVisitsMonth</th>\n",
              "      <th>AcceptedCmp3</th>\n",
              "      <th>AcceptedCmp4</th>\n",
              "      <th>AcceptedCmp5</th>\n",
              "      <th>AcceptedCmp1</th>\n",
              "      <th>AcceptedCmp2</th>\n",
              "      <th>Complain</th>\n",
              "      <th>Z_CostContact</th>\n",
              "      <th>Z_Revenue</th>\n",
              "      <th>Response</th>\n",
              "    </tr>\n",
              "  </thead>\n",
              "  <tbody>\n",
              "    <tr>\n",
              "      <th>0</th>\n",
              "      <td>5524</td>\n",
              "      <td>1957</td>\n",
              "      <td>Graduation</td>\n",
              "      <td>Single</td>\n",
              "      <td>58138.0</td>\n",
              "      <td>0</td>\n",
              "      <td>0</td>\n",
              "      <td>04-09-2012</td>\n",
              "      <td>58</td>\n",
              "      <td>635</td>\n",
              "      <td>88</td>\n",
              "      <td>546</td>\n",
              "      <td>172</td>\n",
              "      <td>88</td>\n",
              "      <td>88</td>\n",
              "      <td>3</td>\n",
              "      <td>8</td>\n",
              "      <td>10</td>\n",
              "      <td>4</td>\n",
              "      <td>7</td>\n",
              "      <td>0</td>\n",
              "      <td>0</td>\n",
              "      <td>0</td>\n",
              "      <td>0</td>\n",
              "      <td>0</td>\n",
              "      <td>0</td>\n",
              "      <td>3</td>\n",
              "      <td>11</td>\n",
              "      <td>1</td>\n",
              "    </tr>\n",
              "    <tr>\n",
              "      <th>1</th>\n",
              "      <td>2174</td>\n",
              "      <td>1954</td>\n",
              "      <td>Graduation</td>\n",
              "      <td>Single</td>\n",
              "      <td>46344.0</td>\n",
              "      <td>1</td>\n",
              "      <td>1</td>\n",
              "      <td>08-03-2014</td>\n",
              "      <td>38</td>\n",
              "      <td>11</td>\n",
              "      <td>1</td>\n",
              "      <td>6</td>\n",
              "      <td>2</td>\n",
              "      <td>1</td>\n",
              "      <td>6</td>\n",
              "      <td>2</td>\n",
              "      <td>1</td>\n",
              "      <td>1</td>\n",
              "      <td>2</td>\n",
              "      <td>5</td>\n",
              "      <td>0</td>\n",
              "      <td>0</td>\n",
              "      <td>0</td>\n",
              "      <td>0</td>\n",
              "      <td>0</td>\n",
              "      <td>0</td>\n",
              "      <td>3</td>\n",
              "      <td>11</td>\n",
              "      <td>0</td>\n",
              "    </tr>\n",
              "    <tr>\n",
              "      <th>2</th>\n",
              "      <td>4141</td>\n",
              "      <td>1965</td>\n",
              "      <td>Graduation</td>\n",
              "      <td>Together</td>\n",
              "      <td>71613.0</td>\n",
              "      <td>0</td>\n",
              "      <td>0</td>\n",
              "      <td>21-08-2013</td>\n",
              "      <td>26</td>\n",
              "      <td>426</td>\n",
              "      <td>49</td>\n",
              "      <td>127</td>\n",
              "      <td>111</td>\n",
              "      <td>21</td>\n",
              "      <td>42</td>\n",
              "      <td>1</td>\n",
              "      <td>8</td>\n",
              "      <td>2</td>\n",
              "      <td>10</td>\n",
              "      <td>4</td>\n",
              "      <td>0</td>\n",
              "      <td>0</td>\n",
              "      <td>0</td>\n",
              "      <td>0</td>\n",
              "      <td>0</td>\n",
              "      <td>0</td>\n",
              "      <td>3</td>\n",
              "      <td>11</td>\n",
              "      <td>0</td>\n",
              "    </tr>\n",
              "    <tr>\n",
              "      <th>3</th>\n",
              "      <td>6182</td>\n",
              "      <td>1984</td>\n",
              "      <td>Graduation</td>\n",
              "      <td>Together</td>\n",
              "      <td>26646.0</td>\n",
              "      <td>1</td>\n",
              "      <td>0</td>\n",
              "      <td>10-02-2014</td>\n",
              "      <td>26</td>\n",
              "      <td>11</td>\n",
              "      <td>4</td>\n",
              "      <td>20</td>\n",
              "      <td>10</td>\n",
              "      <td>3</td>\n",
              "      <td>5</td>\n",
              "      <td>2</td>\n",
              "      <td>2</td>\n",
              "      <td>0</td>\n",
              "      <td>4</td>\n",
              "      <td>6</td>\n",
              "      <td>0</td>\n",
              "      <td>0</td>\n",
              "      <td>0</td>\n",
              "      <td>0</td>\n",
              "      <td>0</td>\n",
              "      <td>0</td>\n",
              "      <td>3</td>\n",
              "      <td>11</td>\n",
              "      <td>0</td>\n",
              "    </tr>\n",
              "    <tr>\n",
              "      <th>4</th>\n",
              "      <td>5324</td>\n",
              "      <td>1981</td>\n",
              "      <td>PhD</td>\n",
              "      <td>Married</td>\n",
              "      <td>58293.0</td>\n",
              "      <td>1</td>\n",
              "      <td>0</td>\n",
              "      <td>19-01-2014</td>\n",
              "      <td>94</td>\n",
              "      <td>173</td>\n",
              "      <td>43</td>\n",
              "      <td>118</td>\n",
              "      <td>46</td>\n",
              "      <td>27</td>\n",
              "      <td>15</td>\n",
              "      <td>5</td>\n",
              "      <td>5</td>\n",
              "      <td>3</td>\n",
              "      <td>6</td>\n",
              "      <td>5</td>\n",
              "      <td>0</td>\n",
              "      <td>0</td>\n",
              "      <td>0</td>\n",
              "      <td>0</td>\n",
              "      <td>0</td>\n",
              "      <td>0</td>\n",
              "      <td>3</td>\n",
              "      <td>11</td>\n",
              "      <td>0</td>\n",
              "    </tr>\n",
              "  </tbody>\n",
              "</table>\n",
              "</div>"
            ],
            "text/plain": [
              "     ID  Year_Birth   Education  ... Z_CostContact  Z_Revenue  Response\n",
              "0  5524        1957  Graduation  ...             3         11         1\n",
              "1  2174        1954  Graduation  ...             3         11         0\n",
              "2  4141        1965  Graduation  ...             3         11         0\n",
              "3  6182        1984  Graduation  ...             3         11         0\n",
              "4  5324        1981         PhD  ...             3         11         0\n",
              "\n",
              "[5 rows x 29 columns]"
            ]
          },
          "metadata": {},
          "execution_count": 72
        }
      ]
    },
    {
      "cell_type": "markdown",
      "metadata": {
        "id": "siAjCD7VP0lW"
      },
      "source": [
        "**Small description of the coumn content**\n",
        "\n",
        "**People**  \n",
        "ID: Customer's unique identifier  \n",
        "Year_Birth: Customer's birth year  \n",
        "Education: Customer's education level  \n",
        "Marital_Status: Customer's marital status  \n",
        "Income: Customer's yearly household income  \n",
        "Kidhome: Number of children in customer's household  \n",
        "Teenhome: Number of teenagers in customer's household  \n",
        "Dt_Customer: Date of customer's enrollment with the company  \n",
        "Recency: Number of days since customer's last purchase  \n",
        "Complain: 1 if customer complained in the last 2 years, 0 otherwise  \n",
        "**Products**  \n",
        "MntWines: Amount spent on wine in last 2 years  \n",
        "MntFruits: Amount spent on fruits in last 2 years  \n",
        "MntMeatProducts: Amount spent on meat in last 2 years  \n",
        "MntFishProducts: Amount spent on fish in last 2 years  \n",
        "MntSweetProducts: Amount spent on sweets in last 2 years  \n",
        "MntGoldProds: Amount spent on gold in last 2 years  \n",
        "**Promotion**  \n",
        "NumDealsPurchases: Number of purchases made with a discount  \n",
        "AcceptedCmp1: 1 if customer accepted the offer in the 1st campaign, 0 otherwise  \n",
        "AcceptedCmp2: 1 if customer accepted the offer in the 2nd campaign, 0 otherwise  \n",
        "AcceptedCmp3: 1 if customer accepted the offer in the 3rd campaign, 0 otherwise  \n",
        "AcceptedCmp4: 1 if customer accepted the offer in the 4th campaign, 0 otherwise  \n",
        "AcceptedCmp5: 1 if customer accepted the offer in the 5th campaign, 0 otherwise  \n",
        "Response: 1 if customer accepted the offer in the last campaign, 0 otherwise  \n",
        "**Place**  \n",
        "NumWebPurchases: Number of purchases made through the company’s web site\n",
        "NumCatalogPurchases: Number of purchases made using a catalogue  \n",
        "NumStorePurchases: Number of purchases made directly in stores  \n",
        "NumWebVisitsMonth: Number of visits to company’s web site in the last month  \n"
      ]
    },
    {
      "cell_type": "markdown",
      "metadata": {
        "id": "UZWT3SnH16Id"
      },
      "source": [
        "**Filtering out the irrelavant columns that do not contribute to the analysis**"
      ]
    },
    {
      "cell_type": "code",
      "metadata": {
        "colab": {
          "base_uri": "https://localhost:8080/"
        },
        "id": "Rcfoyls5Rnte",
        "outputId": "c38c5abc-28cc-4725-ba14-b01ab8e7fded"
      },
      "source": [
        "cdata.isnull().sum()"
      ],
      "execution_count": 73,
      "outputs": [
        {
          "output_type": "execute_result",
          "data": {
            "text/plain": [
              "ID                      0\n",
              "Year_Birth              0\n",
              "Education               0\n",
              "Marital_Status          0\n",
              "Income                 24\n",
              "Kidhome                 0\n",
              "Teenhome                0\n",
              "Dt_Customer             0\n",
              "Recency                 0\n",
              "MntWines                0\n",
              "MntFruits               0\n",
              "MntMeatProducts         0\n",
              "MntFishProducts         0\n",
              "MntSweetProducts        0\n",
              "MntGoldProds            0\n",
              "NumDealsPurchases       0\n",
              "NumWebPurchases         0\n",
              "NumCatalogPurchases     0\n",
              "NumStorePurchases       0\n",
              "NumWebVisitsMonth       0\n",
              "AcceptedCmp3            0\n",
              "AcceptedCmp4            0\n",
              "AcceptedCmp5            0\n",
              "AcceptedCmp1            0\n",
              "AcceptedCmp2            0\n",
              "Complain                0\n",
              "Z_CostContact           0\n",
              "Z_Revenue               0\n",
              "Response                0\n",
              "dtype: int64"
            ]
          },
          "metadata": {},
          "execution_count": 73
        }
      ]
    },
    {
      "cell_type": "markdown",
      "metadata": {
        "id": "g1ENdIqbTA4M"
      },
      "source": [
        "From the above,\n",
        "we dont have the income status of 24 customers, rest of the cells are all filled with appropriate data. And ther is no duplication of data."
      ]
    },
    {
      "cell_type": "code",
      "metadata": {
        "colab": {
          "base_uri": "https://localhost:8080/"
        },
        "id": "aeHIOY8TTmgr",
        "outputId": "89683a04-305f-4319-fbd9-e8fe7dd73e8f"
      },
      "source": [
        "cdata = cdata.drop('ID', axis=1) # dropping the columns that do not play any role in statistical analysis\n",
        "cdata.info()"
      ],
      "execution_count": 74,
      "outputs": [
        {
          "output_type": "stream",
          "text": [
            "<class 'pandas.core.frame.DataFrame'>\n",
            "RangeIndex: 2240 entries, 0 to 2239\n",
            "Data columns (total 28 columns):\n",
            " #   Column               Non-Null Count  Dtype  \n",
            "---  ------               --------------  -----  \n",
            " 0   Year_Birth           2240 non-null   int64  \n",
            " 1   Education            2240 non-null   object \n",
            " 2   Marital_Status       2240 non-null   object \n",
            " 3   Income               2216 non-null   float64\n",
            " 4   Kidhome              2240 non-null   int64  \n",
            " 5   Teenhome             2240 non-null   int64  \n",
            " 6   Dt_Customer          2240 non-null   object \n",
            " 7   Recency              2240 non-null   int64  \n",
            " 8   MntWines             2240 non-null   int64  \n",
            " 9   MntFruits            2240 non-null   int64  \n",
            " 10  MntMeatProducts      2240 non-null   int64  \n",
            " 11  MntFishProducts      2240 non-null   int64  \n",
            " 12  MntSweetProducts     2240 non-null   int64  \n",
            " 13  MntGoldProds         2240 non-null   int64  \n",
            " 14  NumDealsPurchases    2240 non-null   int64  \n",
            " 15  NumWebPurchases      2240 non-null   int64  \n",
            " 16  NumCatalogPurchases  2240 non-null   int64  \n",
            " 17  NumStorePurchases    2240 non-null   int64  \n",
            " 18  NumWebVisitsMonth    2240 non-null   int64  \n",
            " 19  AcceptedCmp3         2240 non-null   int64  \n",
            " 20  AcceptedCmp4         2240 non-null   int64  \n",
            " 21  AcceptedCmp5         2240 non-null   int64  \n",
            " 22  AcceptedCmp1         2240 non-null   int64  \n",
            " 23  AcceptedCmp2         2240 non-null   int64  \n",
            " 24  Complain             2240 non-null   int64  \n",
            " 25  Z_CostContact        2240 non-null   int64  \n",
            " 26  Z_Revenue            2240 non-null   int64  \n",
            " 27  Response             2240 non-null   int64  \n",
            "dtypes: float64(1), int64(24), object(3)\n",
            "memory usage: 490.1+ KB\n"
          ],
          "name": "stdout"
        }
      ]
    },
    {
      "cell_type": "markdown",
      "metadata": {
        "id": "2aSupWV7euOD"
      },
      "source": [
        "int64, float64 and object are the data types of our features. We see that  3 features are of type object, and 24 features are numeric. With this same method, we can easily see if there are any missing values. Here, there are none because each column contains 2240 observations, the same number of rows we saw before with shape but 24 observations in income are missing"
      ]
    },
    {
      "cell_type": "code",
      "metadata": {
        "id": "FKPtOCOqybcR"
      },
      "source": [
        "sum_column = cdata[\"MntWines\"] + cdata[\"MntFruits\"]+cdata[\"MntMeatProducts\"]+cdata[\"MntFishProducts\"]+cdata[\"MntGoldProds\"]+cdata[\"MntSweetProducts\"]\n",
        "cdata[\"products\"] = sum_column #aading a column products which includes the whole amount spent by the customer."
      ],
      "execution_count": 75,
      "outputs": []
    },
    {
      "cell_type": "markdown",
      "metadata": {
        "id": "cxwls80AKUz9"
      },
      "source": [
        "#**Statistical analysis of the data**"
      ]
    },
    {
      "cell_type": "code",
      "metadata": {
        "colab": {
          "base_uri": "https://localhost:8080/",
          "height": 314
        },
        "id": "JRAidDrSDHym",
        "outputId": "414d7793-6c47-4ff0-d327-2a5f4f1bea80"
      },
      "source": [
        "cdata.describe()"
      ],
      "execution_count": 76,
      "outputs": [
        {
          "output_type": "execute_result",
          "data": {
            "text/html": [
              "<div>\n",
              "<style scoped>\n",
              "    .dataframe tbody tr th:only-of-type {\n",
              "        vertical-align: middle;\n",
              "    }\n",
              "\n",
              "    .dataframe tbody tr th {\n",
              "        vertical-align: top;\n",
              "    }\n",
              "\n",
              "    .dataframe thead th {\n",
              "        text-align: right;\n",
              "    }\n",
              "</style>\n",
              "<table border=\"1\" class=\"dataframe\">\n",
              "  <thead>\n",
              "    <tr style=\"text-align: right;\">\n",
              "      <th></th>\n",
              "      <th>Year_Birth</th>\n",
              "      <th>Income</th>\n",
              "      <th>Kidhome</th>\n",
              "      <th>Teenhome</th>\n",
              "      <th>Recency</th>\n",
              "      <th>MntWines</th>\n",
              "      <th>MntFruits</th>\n",
              "      <th>MntMeatProducts</th>\n",
              "      <th>MntFishProducts</th>\n",
              "      <th>MntSweetProducts</th>\n",
              "      <th>MntGoldProds</th>\n",
              "      <th>NumDealsPurchases</th>\n",
              "      <th>NumWebPurchases</th>\n",
              "      <th>NumCatalogPurchases</th>\n",
              "      <th>NumStorePurchases</th>\n",
              "      <th>NumWebVisitsMonth</th>\n",
              "      <th>AcceptedCmp3</th>\n",
              "      <th>AcceptedCmp4</th>\n",
              "      <th>AcceptedCmp5</th>\n",
              "      <th>AcceptedCmp1</th>\n",
              "      <th>AcceptedCmp2</th>\n",
              "      <th>Complain</th>\n",
              "      <th>Z_CostContact</th>\n",
              "      <th>Z_Revenue</th>\n",
              "      <th>Response</th>\n",
              "      <th>products</th>\n",
              "    </tr>\n",
              "  </thead>\n",
              "  <tbody>\n",
              "    <tr>\n",
              "      <th>count</th>\n",
              "      <td>2240.000000</td>\n",
              "      <td>2216.000000</td>\n",
              "      <td>2240.000000</td>\n",
              "      <td>2240.000000</td>\n",
              "      <td>2240.000000</td>\n",
              "      <td>2240.000000</td>\n",
              "      <td>2240.000000</td>\n",
              "      <td>2240.000000</td>\n",
              "      <td>2240.000000</td>\n",
              "      <td>2240.000000</td>\n",
              "      <td>2240.000000</td>\n",
              "      <td>2240.000000</td>\n",
              "      <td>2240.000000</td>\n",
              "      <td>2240.000000</td>\n",
              "      <td>2240.000000</td>\n",
              "      <td>2240.000000</td>\n",
              "      <td>2240.000000</td>\n",
              "      <td>2240.000000</td>\n",
              "      <td>2240.000000</td>\n",
              "      <td>2240.000000</td>\n",
              "      <td>2240.000000</td>\n",
              "      <td>2240.000000</td>\n",
              "      <td>2240.0</td>\n",
              "      <td>2240.0</td>\n",
              "      <td>2240.000000</td>\n",
              "      <td>2240.000000</td>\n",
              "    </tr>\n",
              "    <tr>\n",
              "      <th>mean</th>\n",
              "      <td>1968.805804</td>\n",
              "      <td>52247.251354</td>\n",
              "      <td>0.444196</td>\n",
              "      <td>0.506250</td>\n",
              "      <td>49.109375</td>\n",
              "      <td>303.935714</td>\n",
              "      <td>26.302232</td>\n",
              "      <td>166.950000</td>\n",
              "      <td>37.525446</td>\n",
              "      <td>27.062946</td>\n",
              "      <td>44.021875</td>\n",
              "      <td>2.325000</td>\n",
              "      <td>4.084821</td>\n",
              "      <td>2.662054</td>\n",
              "      <td>5.790179</td>\n",
              "      <td>5.316518</td>\n",
              "      <td>0.072768</td>\n",
              "      <td>0.074554</td>\n",
              "      <td>0.072768</td>\n",
              "      <td>0.064286</td>\n",
              "      <td>0.013393</td>\n",
              "      <td>0.009375</td>\n",
              "      <td>3.0</td>\n",
              "      <td>11.0</td>\n",
              "      <td>0.149107</td>\n",
              "      <td>605.798214</td>\n",
              "    </tr>\n",
              "    <tr>\n",
              "      <th>std</th>\n",
              "      <td>11.984069</td>\n",
              "      <td>25173.076661</td>\n",
              "      <td>0.538398</td>\n",
              "      <td>0.544538</td>\n",
              "      <td>28.962453</td>\n",
              "      <td>336.597393</td>\n",
              "      <td>39.773434</td>\n",
              "      <td>225.715373</td>\n",
              "      <td>54.628979</td>\n",
              "      <td>41.280498</td>\n",
              "      <td>52.167439</td>\n",
              "      <td>1.932238</td>\n",
              "      <td>2.778714</td>\n",
              "      <td>2.923101</td>\n",
              "      <td>3.250958</td>\n",
              "      <td>2.426645</td>\n",
              "      <td>0.259813</td>\n",
              "      <td>0.262728</td>\n",
              "      <td>0.259813</td>\n",
              "      <td>0.245316</td>\n",
              "      <td>0.114976</td>\n",
              "      <td>0.096391</td>\n",
              "      <td>0.0</td>\n",
              "      <td>0.0</td>\n",
              "      <td>0.356274</td>\n",
              "      <td>602.249288</td>\n",
              "    </tr>\n",
              "    <tr>\n",
              "      <th>min</th>\n",
              "      <td>1893.000000</td>\n",
              "      <td>1730.000000</td>\n",
              "      <td>0.000000</td>\n",
              "      <td>0.000000</td>\n",
              "      <td>0.000000</td>\n",
              "      <td>0.000000</td>\n",
              "      <td>0.000000</td>\n",
              "      <td>0.000000</td>\n",
              "      <td>0.000000</td>\n",
              "      <td>0.000000</td>\n",
              "      <td>0.000000</td>\n",
              "      <td>0.000000</td>\n",
              "      <td>0.000000</td>\n",
              "      <td>0.000000</td>\n",
              "      <td>0.000000</td>\n",
              "      <td>0.000000</td>\n",
              "      <td>0.000000</td>\n",
              "      <td>0.000000</td>\n",
              "      <td>0.000000</td>\n",
              "      <td>0.000000</td>\n",
              "      <td>0.000000</td>\n",
              "      <td>0.000000</td>\n",
              "      <td>3.0</td>\n",
              "      <td>11.0</td>\n",
              "      <td>0.000000</td>\n",
              "      <td>5.000000</td>\n",
              "    </tr>\n",
              "    <tr>\n",
              "      <th>25%</th>\n",
              "      <td>1959.000000</td>\n",
              "      <td>35303.000000</td>\n",
              "      <td>0.000000</td>\n",
              "      <td>0.000000</td>\n",
              "      <td>24.000000</td>\n",
              "      <td>23.750000</td>\n",
              "      <td>1.000000</td>\n",
              "      <td>16.000000</td>\n",
              "      <td>3.000000</td>\n",
              "      <td>1.000000</td>\n",
              "      <td>9.000000</td>\n",
              "      <td>1.000000</td>\n",
              "      <td>2.000000</td>\n",
              "      <td>0.000000</td>\n",
              "      <td>3.000000</td>\n",
              "      <td>3.000000</td>\n",
              "      <td>0.000000</td>\n",
              "      <td>0.000000</td>\n",
              "      <td>0.000000</td>\n",
              "      <td>0.000000</td>\n",
              "      <td>0.000000</td>\n",
              "      <td>0.000000</td>\n",
              "      <td>3.0</td>\n",
              "      <td>11.0</td>\n",
              "      <td>0.000000</td>\n",
              "      <td>68.750000</td>\n",
              "    </tr>\n",
              "    <tr>\n",
              "      <th>50%</th>\n",
              "      <td>1970.000000</td>\n",
              "      <td>51381.500000</td>\n",
              "      <td>0.000000</td>\n",
              "      <td>0.000000</td>\n",
              "      <td>49.000000</td>\n",
              "      <td>173.500000</td>\n",
              "      <td>8.000000</td>\n",
              "      <td>67.000000</td>\n",
              "      <td>12.000000</td>\n",
              "      <td>8.000000</td>\n",
              "      <td>24.000000</td>\n",
              "      <td>2.000000</td>\n",
              "      <td>4.000000</td>\n",
              "      <td>2.000000</td>\n",
              "      <td>5.000000</td>\n",
              "      <td>6.000000</td>\n",
              "      <td>0.000000</td>\n",
              "      <td>0.000000</td>\n",
              "      <td>0.000000</td>\n",
              "      <td>0.000000</td>\n",
              "      <td>0.000000</td>\n",
              "      <td>0.000000</td>\n",
              "      <td>3.0</td>\n",
              "      <td>11.0</td>\n",
              "      <td>0.000000</td>\n",
              "      <td>396.000000</td>\n",
              "    </tr>\n",
              "    <tr>\n",
              "      <th>75%</th>\n",
              "      <td>1977.000000</td>\n",
              "      <td>68522.000000</td>\n",
              "      <td>1.000000</td>\n",
              "      <td>1.000000</td>\n",
              "      <td>74.000000</td>\n",
              "      <td>504.250000</td>\n",
              "      <td>33.000000</td>\n",
              "      <td>232.000000</td>\n",
              "      <td>50.000000</td>\n",
              "      <td>33.000000</td>\n",
              "      <td>56.000000</td>\n",
              "      <td>3.000000</td>\n",
              "      <td>6.000000</td>\n",
              "      <td>4.000000</td>\n",
              "      <td>8.000000</td>\n",
              "      <td>7.000000</td>\n",
              "      <td>0.000000</td>\n",
              "      <td>0.000000</td>\n",
              "      <td>0.000000</td>\n",
              "      <td>0.000000</td>\n",
              "      <td>0.000000</td>\n",
              "      <td>0.000000</td>\n",
              "      <td>3.0</td>\n",
              "      <td>11.0</td>\n",
              "      <td>0.000000</td>\n",
              "      <td>1045.500000</td>\n",
              "    </tr>\n",
              "    <tr>\n",
              "      <th>max</th>\n",
              "      <td>1996.000000</td>\n",
              "      <td>666666.000000</td>\n",
              "      <td>2.000000</td>\n",
              "      <td>2.000000</td>\n",
              "      <td>99.000000</td>\n",
              "      <td>1493.000000</td>\n",
              "      <td>199.000000</td>\n",
              "      <td>1725.000000</td>\n",
              "      <td>259.000000</td>\n",
              "      <td>263.000000</td>\n",
              "      <td>362.000000</td>\n",
              "      <td>15.000000</td>\n",
              "      <td>27.000000</td>\n",
              "      <td>28.000000</td>\n",
              "      <td>13.000000</td>\n",
              "      <td>20.000000</td>\n",
              "      <td>1.000000</td>\n",
              "      <td>1.000000</td>\n",
              "      <td>1.000000</td>\n",
              "      <td>1.000000</td>\n",
              "      <td>1.000000</td>\n",
              "      <td>1.000000</td>\n",
              "      <td>3.0</td>\n",
              "      <td>11.0</td>\n",
              "      <td>1.000000</td>\n",
              "      <td>2525.000000</td>\n",
              "    </tr>\n",
              "  </tbody>\n",
              "</table>\n",
              "</div>"
            ],
            "text/plain": [
              "        Year_Birth         Income  ...     Response     products\n",
              "count  2240.000000    2216.000000  ...  2240.000000  2240.000000\n",
              "mean   1968.805804   52247.251354  ...     0.149107   605.798214\n",
              "std      11.984069   25173.076661  ...     0.356274   602.249288\n",
              "min    1893.000000    1730.000000  ...     0.000000     5.000000\n",
              "25%    1959.000000   35303.000000  ...     0.000000    68.750000\n",
              "50%    1970.000000   51381.500000  ...     0.000000   396.000000\n",
              "75%    1977.000000   68522.000000  ...     0.000000  1045.500000\n",
              "max    1996.000000  666666.000000  ...     1.000000  2525.000000\n",
              "\n",
              "[8 rows x 26 columns]"
            ]
          },
          "metadata": {},
          "execution_count": 76
        }
      ]
    },
    {
      "cell_type": "markdown",
      "metadata": {
        "id": "Um6E9Tm9o9tk"
      },
      "source": [
        " **describe()** is used to view some basic statistical details like percentile, mean, std etc. of a data frame or a series of numeric values. When this method is applied to a series of string, it returns a different output which is shown in the cell above."
      ]
    },
    {
      "cell_type": "markdown",
      "metadata": {
        "id": "4zNe2KPtfYYm"
      },
      "source": [
        "**Bar plot**"
      ]
    },
    {
      "cell_type": "code",
      "metadata": {
        "colab": {
          "base_uri": "https://localhost:8080/",
          "height": 296
        },
        "id": "mPzjOyLPGJD1",
        "outputId": "f361a11e-f47e-4e17-a5c4-e7c975932e6f"
      },
      "source": [
        "sns.barplot(x = cdata[\"Education\"],y = cdata[\"products\"])\n",
        "plt.ylabel(\"cost of products\")\n"
      ],
      "execution_count": 77,
      "outputs": [
        {
          "output_type": "execute_result",
          "data": {
            "text/plain": [
              "Text(0, 0.5, 'cost of products')"
            ]
          },
          "metadata": {},
          "execution_count": 77
        },
        {
          "output_type": "display_data",
          "data": {
            "image/png": "[encoded data removed]",
            "text/plain": [
              "<Figure size 432x288 with 1 Axes>"
            ]
          },
          "metadata": {
            "needs_background": "light"
          }
        }
      ]
    },
    {
      "cell_type": "markdown",
      "metadata": {
        "id": "P0VObxqpNbLi"
      },
      "source": [
        "Most of the customers of the company hold a graduation degree."
      ]
    },
    {
      "cell_type": "code",
      "metadata": {
        "colab": {
          "base_uri": "https://localhost:8080/"
        },
        "id": "-_OOzM5yqIFy",
        "outputId": "2a4baa24-7c7b-4baa-cfcb-56fcc52a6bc0"
      },
      "source": [
        "a = sum(cdata[\"NumDealsPurchases\"])       # To analyse the most frequent type of purchase\n",
        "b = sum(cdata[\"NumWebPurchases\"])\n",
        "c = sum(cdata[\"NumCatalogPurchases\"])\n",
        "d = sum(cdata[\"NumWebVisitsMonth\"])\n",
        "print(\"NumDealsPurchases=\", a,\"NumWebPurchases=\",b,\"NumCatalogPurchases=\",c,\"NumWebVisitsMonth\",d)"
      ],
      "execution_count": 78,
      "outputs": [
        {
          "output_type": "stream",
          "text": [
            "NumDealsPurchases= 5208 NumWebPurchases= 9150 NumCatalogPurchases= 5963 NumWebVisitsMonth 11909\n"
          ],
          "name": "stdout"
        }
      ]
    },
    {
      "cell_type": "markdown",
      "metadata": {
        "id": "BnRr_ItpLO2S"
      },
      "source": [
        "**Scatter plot**"
      ]
    },
    {
      "cell_type": "code",
      "metadata": {
        "colab": {
          "base_uri": "https://localhost:8080/",
          "height": 445
        },
        "id": "ZPr2jBoJN2Ki",
        "outputId": "7f309853-2b54-4f73-f641-96596a973b5a"
      },
      "source": [
        "plt.figure(figsize=(14,7))\n",
        "plt.scatter(cdata[\"Income\"],cdata[\"products\"],linewidths=1,)\n"
      ],
      "execution_count": 79,
      "outputs": [
        {
          "output_type": "execute_result",
          "data": {
            "text/plain": [
              "<matplotlib.collections.PathCollection at 0x7fc434cc73d0>"
            ]
          },
          "metadata": {},
          "execution_count": 79
        },
        {
          "output_type": "display_data",
          "data": {
            "image/png": "[encoded data removed]",
            "text/plain": [
              "<Figure size 1008x504 with 1 Axes>"
            ]
          },
          "metadata": {
            "needs_background": "light"
          }
        }
      ]
    },
    {
      "cell_type": "markdown",
      "metadata": {
        "id": "dBPebjhpMfuF"
      },
      "source": [
        "The scatterplot above suggests that the income and the amount they spend on poducts are positively correlated, where customers with higher salary typically also tend to buy more products.\n",
        "\n",
        "To double-check the strength of this relationship, we add a regression line, or the line that best fits the data. We do this by changing the command to sns.regplot."
      ]
    },
    {
      "cell_type": "code",
      "metadata": {
        "colab": {
          "base_uri": "https://localhost:8080/",
          "height": 296
        },
        "id": "ixiG1cWsL8CX",
        "outputId": "bb24cca4-ceab-4d8b-f3a2-a5cc8a2648aa"
      },
      "source": [
        "sns.regplot(x=cdata['Income'], y=cdata['products'])"
      ],
      "execution_count": 80,
      "outputs": [
        {
          "output_type": "execute_result",
          "data": {
            "text/plain": [
              "<matplotlib.axes._subplots.AxesSubplot at 0x7fc434a53510>"
            ]
          },
          "metadata": {},
          "execution_count": 80
        },
        {
          "output_type": "display_data",
          "data": {
            "image/png": "[encoded data removed]",
            "text/plain": [
              "<Figure size 432x288 with 1 Axes>"
            ]
          },
          "metadata": {
            "needs_background": "light"
          }
        }
      ]
    },
    {
      "cell_type": "markdown",
      "metadata": {
        "id": "ZQUL1scGMOjg"
      },
      "source": [
        "#**Heat Map**\n",
        "The relevant code to create the heatmap is as follows:"
      ]
    },
    {
      "cell_type": "code",
      "metadata": {
        "colab": {
          "base_uri": "https://localhost:8080/",
          "height": 461
        },
        "id": "_CiIjs9bYoW0",
        "outputId": "7dfc7ead-63a7-4627-c3f5-a67429faffae"
      },
      "source": [
        "plt.figure(figsize=(14,7))\n",
        "\n",
        "sns.heatmap(data=cdata.loc[0:, ['MntWines',\t'MntFruits',\t'MntMeatProducts',\t'MntFishProducts',\t'MntSweetProducts',\t'MntGoldProds']])\n",
        "plt.title(\"Average money people tend to spend on each category of items\")\n"
      ],
      "execution_count": 81,
      "outputs": [
        {
          "output_type": "execute_result",
          "data": {
            "text/plain": [
              "Text(0.5, 1.0, 'Average money people tend to spend on each category of items')"
            ]
          },
          "metadata": {},
          "execution_count": 81
        },
        {
          "output_type": "display_data",
          "data": {
            "image/png": "[encoded data removed]",
            "text/plain": [
              "<Figure size 1008x504 with 2 Axes>"
            ]
          },
          "metadata": {
            "needs_background": "light"
          }
        }
      ]
    },
    {
      "cell_type": "markdown",
      "metadata": {
        "id": "fSZLqh5TdLeo"
      },
      "source": [
        "**What patterns can we detect from the table?**  \n",
        "For instance, if we look closely, the MntWines and MntMeatProducts appear relatively light for all customers. This suggests that most of the customers buy meat and wine products. \n",
        "So the company can further improve these product qualities and provide discount on other products to increase their value as well."
      ]
    },
    {
      "cell_type": "code",
      "metadata": {
        "colab": {
          "base_uri": "https://localhost:8080/",
          "height": 296
        },
        "id": "ZFUu07xi14O4",
        "outputId": "fd853c63-d499-47bd-d3f0-11c7b3c51b97"
      },
      "source": [
        "sns.kdeplot(data=cdata['MntWines'], shade=True)\n"
      ],
      "execution_count": 82,
      "outputs": [
        {
          "output_type": "execute_result",
          "data": {
            "text/plain": [
              "<matplotlib.axes._subplots.AxesSubplot at 0x7fc43498bc50>"
            ]
          },
          "metadata": {},
          "execution_count": 82
        },
        {
          "output_type": "display_data",
          "data": {
            "image/png": "[encoded data removed]",
            "text/plain": [
              "<Figure size 432x288 with 1 Axes>"
            ]
          },
          "metadata": {
            "needs_background": "light"
          }
        }
      ]
    },
    {
      "cell_type": "markdown",
      "metadata": {
        "id": "qW3cKxZC3IKD"
      },
      "source": [
        "**Observation** of the above cell:  \n",
        "The sharp kink in the graph shows that most of the customers spend 0-250 units of money on wine. Only a few of them spend more than 1250/- on wines.\n"
      ]
    },
    {
      "cell_type": "markdown",
      "metadata": {
        "id": "NB4vJa49uaBw"
      },
      "source": [
        "#**Conclusion**\n",
        "So according to the output and overall analysis conducted on this data science project on customer personality analysis with Python, we can conclude that the biggest customers are:\n",
        "\n",
        "Customers with an average income of around 69,500.  \n",
        "Customers with an average total spend of approximately $1,252. \n",
        "Customers with a graduate degree.  \n",
        "And customers who are also heavy consumers of meat products and wine products.  \n",
        " \n",
        "\n",
        " This analysis helps a business to modify its product based on its target customers from different types of customer segments. For example, instead of spending money to market a new product to every customer in the company’s database, a company can analyze which customer segment is most likely to buy the product and then market the product only on that particular segment.\n"
      ]
    }
  ]
}